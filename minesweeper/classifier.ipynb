{
 "cells": [
  {
   "cell_type": "code",
   "execution_count": 2,
   "metadata": {},
   "outputs": [
    {
     "data": {
      "text/plain": [
       "device(type='cuda')"
      ]
     },
     "execution_count": 2,
     "metadata": {},
     "output_type": "execute_result"
    }
   ],
   "source": [
    "import tone\n",
    "import utils\n",
    "from utils import *\n",
    "\n",
    "tone.utils.ipython.autoreload(utils)\n",
    "tone.utils.learning.ignore_warning()\n",
    "device = tone.utils.learning.try_use_device()\n",
    "device"
   ]
  },
  {
   "cell_type": "code",
   "execution_count": 8,
   "metadata": {},
   "outputs": [
    {
     "name": "stdout",
     "output_type": "stream",
     "text": [
      "1 (64, 64, 1)\n"
     ]
    },
    {
     "data": {
      "image/png": "[encoded data removed]",
      "text/plain": [
       "<Figure size 640x480 with 1 Axes>"
      ]
     },
     "metadata": {},
     "output_type": "display_data"
    }
   ],
   "source": [
    "class Dataset(torch.utils.data.Dataset):\n",
    "\n",
    "    def __init__(self) -> None:\n",
    "        super().__init__()\n",
    "        self.images = []\n",
    "        files = glob.glob(\"images/*\")\n",
    "        for file in files:\n",
    "            match = re.match(r\".+\\\\(\\d+)\\.png\", file)\n",
    "            idx = int(match.group(1))\n",
    "            image = Image.open(file).convert(\"L\")\n",
    "            image = image.resize((64, 64))\n",
    "            image = np.asarray(image)\n",
    "            image = torch.from_numpy(image).float().to(device) / 255.0\n",
    "            image = image.unsqueeze(0)\n",
    "            # image = image.permute(2, 0, 1)\n",
    "            self.images.append((image, idx))\n",
    "\n",
    "        self.images = sorted(self.images, key=lambda e: e[1])\n",
    "\n",
    "    def __len__(self):\n",
    "        return len(self.images)\n",
    "\n",
    "    def __getitem__(self, index):\n",
    "        return self.images[index]\n",
    "\n",
    "\n",
    "dataset = Dataset()\n",
    "idx = 1\n",
    "\n",
    "image, label = dataset[idx]\n",
    "image = image.cpu().permute(1, 2, 0).numpy()\n",
    "plt.imshow(image)\n",
    "print(label, image.shape)"
   ]
  },
  {
   "cell_type": "code",
   "execution_count": 4,
   "metadata": {},
   "outputs": [
    {
     "name": "stderr",
     "output_type": "stream",
     "text": [
      "  0%|          | 0/2000 [00:00<?, ?it/s]"
     ]
    },
    {
     "name": "stderr",
     "output_type": "stream",
     "text": [
      "100%|██████████| 2000/2000 [00:29<00:00, 68.61it/s, loss=0.000784]\n"
     ]
    }
   ],
   "source": [
    "from classifier import Classifer\n",
    "\n",
    "dataloader = torch.utils.data.DataLoader(\n",
    "    dataset=dataset,\n",
    "    batch_size=13,\n",
    "    shuffle=True,\n",
    "    generator=torch.Generator(device=device),\n",
    ")\n",
    "\n",
    "model = Classifer()\n",
    "optimizer = torch.optim.SGD(\n",
    "    model.parameters(),\n",
    "    lr=0.1,\n",
    ")\n",
    "criterion = nn.BCELoss()\n",
    "epoch = 2000\n",
    "\n",
    "bar = tqdm(range(epoch))\n",
    "for _ in bar:\n",
    "    for x, t in dataloader:\n",
    "        t = F.one_hot(t, 13).float()\n",
    "        y = model.forward(x)\n",
    "\n",
    "        loss = criterion(y, t)\n",
    "\n",
    "        optimizer.zero_grad()\n",
    "        loss.backward()\n",
    "        optimizer.step()\n",
    "        bar.set_postfix(loss=loss.item())\n"
   ]
  },
  {
   "cell_type": "code",
   "execution_count": 5,
   "metadata": {},
   "outputs": [
    {
     "name": "stdout",
     "output_type": "stream",
     "text": [
      "tensor(0)\n"
     ]
    }
   ],
   "source": [
    "for x, t in dataloader:\n",
    "    y = model.forward(x)\n",
    "    idx = torch.argmax(y, dim=1)\n",
    "    print(sum(idx != t))"
   ]
  },
  {
   "cell_type": "code",
   "execution_count": 6,
   "metadata": {},
   "outputs": [],
   "source": [
    "tone.utils.learning.save_pickle(model, \"./model.pkl\")"
   ]
  },
  {
   "cell_type": "code",
   "execution_count": 7,
   "metadata": {},
   "outputs": [
    {
     "data": {
      "text/plain": [
       "tensor(1)"
      ]
     },
     "execution_count": 7,
     "metadata": {},
     "output_type": "execute_result"
    }
   ],
   "source": [
    "model.eval()\n",
    "model.predict(dataset[1][0].unsqueeze(0))"
   ]
  }
 ],
 "metadata": {
  "kernelspec": {
   "display_name": "test",
   "language": "python",
   "name": "python3"
  },
  "language_info": {
   "codemirror_mode": {
    "name": "ipython",
    "version": 3
   },
   "file_extension": ".py",
   "mimetype": "text/x-python",
   "name": "python",
   "nbconvert_exporter": "python",
   "pygments_lexer": "ipython3",
   "version": "3.10.9"
  },
  "orig_nbformat": 4
 },
 "nbformat": 4,
 "nbformat_minor": 2
}
